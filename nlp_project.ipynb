{
 "cells": [
  {
   "cell_type": "markdown",
   "metadata": {},
   "source": [
    "# Sentiment Analysis for Financial News"
   ]
  },
  {
   "cell_type": "code",
   "execution_count": 378,
   "metadata": {},
   "outputs": [
    {
     "name": "stderr",
     "output_type": "stream",
     "text": [
      "[nltk_data] Downloading package stopwords to C:\\Users\\Camille\n",
      "[nltk_data]     Leempoels\\AppData\\Roaming\\nltk_data...\n",
      "[nltk_data]   Package stopwords is already up-to-date!\n"
     ]
    }
   ],
   "source": [
    "import pandas as pd\n",
    "import numpy as np\n",
    "\n",
    "# cleaning\n",
    "import unidecode\n",
    "\n",
    "# stop words\n",
    "import nltk\n",
    "from nltk.corpus import stopwords\n",
    "nltk.download('stopwords')\n",
    "\n",
    "# vocab\n",
    "from collections import Counter\n",
    "\n",
    "# models\n",
    "from sklearn.model_selection import train_test_split\n",
    "from sklearn.preprocessing import OneHotEncoder\n",
    "import torch\n",
    "import torch.nn as nn\n",
    "from torch.utils.data import TensorDataset, DataLoader\n",
    "import torch.optim as optim\n",
    "from tqdm import tqdm  \n"
   ]
  },
  {
   "cell_type": "markdown",
   "metadata": {},
   "source": [
    "## Preprocessing"
   ]
  },
  {
   "cell_type": "markdown",
   "metadata": {},
   "source": [
    "Loading the dataset."
   ]
  },
  {
   "cell_type": "code",
   "execution_count": 343,
   "metadata": {},
   "outputs": [],
   "source": [
    "data = pd.read_csv('data.csv', encoding='latin-1', names=['sentiment','text'])"
   ]
  },
  {
   "cell_type": "code",
   "execution_count": 344,
   "metadata": {},
   "outputs": [
    {
     "data": {
      "text/html": [
       "<div>\n",
       "<style scoped>\n",
       "    .dataframe tbody tr th:only-of-type {\n",
       "        vertical-align: middle;\n",
       "    }\n",
       "\n",
       "    .dataframe tbody tr th {\n",
       "        vertical-align: top;\n",
       "    }\n",
       "\n",
       "    .dataframe thead th {\n",
       "        text-align: right;\n",
       "    }\n",
       "</style>\n",
       "<table border=\"1\" class=\"dataframe\">\n",
       "  <thead>\n",
       "    <tr style=\"text-align: right;\">\n",
       "      <th></th>\n",
       "      <th>sentiment</th>\n",
       "      <th>text</th>\n",
       "    </tr>\n",
       "  </thead>\n",
       "  <tbody>\n",
       "    <tr>\n",
       "      <th>0</th>\n",
       "      <td>neutral</td>\n",
       "      <td>According to Gran , the company has no plans t...</td>\n",
       "    </tr>\n",
       "    <tr>\n",
       "      <th>1</th>\n",
       "      <td>neutral</td>\n",
       "      <td>Technopolis plans to develop in stages an area...</td>\n",
       "    </tr>\n",
       "    <tr>\n",
       "      <th>2</th>\n",
       "      <td>negative</td>\n",
       "      <td>The international electronic industry company ...</td>\n",
       "    </tr>\n",
       "    <tr>\n",
       "      <th>3</th>\n",
       "      <td>positive</td>\n",
       "      <td>With the new production plant the company woul...</td>\n",
       "    </tr>\n",
       "    <tr>\n",
       "      <th>4</th>\n",
       "      <td>positive</td>\n",
       "      <td>According to the company 's updated strategy f...</td>\n",
       "    </tr>\n",
       "  </tbody>\n",
       "</table>\n",
       "</div>"
      ],
      "text/plain": [
       "  sentiment                                               text\n",
       "0   neutral  According to Gran , the company has no plans t...\n",
       "1   neutral  Technopolis plans to develop in stages an area...\n",
       "2  negative  The international electronic industry company ...\n",
       "3  positive  With the new production plant the company woul...\n",
       "4  positive  According to the company 's updated strategy f..."
      ]
     },
     "execution_count": 344,
     "metadata": {},
     "output_type": "execute_result"
    }
   ],
   "source": [
    "data.head()"
   ]
  },
  {
   "cell_type": "markdown",
   "metadata": {},
   "source": [
    "Cleaning the text."
   ]
  },
  {
   "cell_type": "code",
   "execution_count": 345,
   "metadata": {},
   "outputs": [],
   "source": [
    "# Removing punctuation and special caracters\n",
    "data['text'] = data['text'].str.replace('[^\\w\\s]', '', regex=True)\n",
    "data['text'] = data['text'].str.replace('_', ' ')\n",
    "data['text'] = data['text'].astype('unicode')\n",
    "data['text'] = data['text'].transform(lambda x: unidecode.unidecode(x))\n",
    "\n",
    "# Lowercase the text\n",
    "data['text'] = data['text'].str.lower()\n",
    "\n",
    "# Removing numbers\n",
    "data['text'] = data['text'].str.replace('\\d+', '', regex=True)\n",
    "\n",
    "# Removing stop words\n",
    "nltk_stopwords = stopwords.words('english')\n",
    "data['text'] = data['text'].apply(lambda x: [item for item in x.split() if item not in nltk_stopwords])\n",
    "\n",
    "# Lemmatization and/or Expand Contractions ?"
   ]
  },
  {
   "cell_type": "markdown",
   "metadata": {},
   "source": [
    "Split train and test set"
   ]
  },
  {
   "cell_type": "code",
   "execution_count": 346,
   "metadata": {},
   "outputs": [],
   "source": [
    "_train_set_, _test_set_ = train_test_split(data, test_size=0.2, random_state=1)"
   ]
  },
  {
   "cell_type": "markdown",
   "metadata": {},
   "source": [
    "Building the vocabulary from the training set"
   ]
  },
  {
   "cell_type": "code",
   "execution_count": 347,
   "metadata": {},
   "outputs": [
    {
     "name": "stdout",
     "output_type": "stream",
     "text": [
      "Number of words in the training set : 46400\n",
      "Number of unique words in the training set : 8337\n",
      "Most frequent words : [('eur', 1057), ('company', 680), ('mn', 475), ('said', 437), ('finnish', 405), ('sales', 354), ('million', 335), ('profit', 325), ('net', 323), ('finland', 278)]\n"
     ]
    }
   ],
   "source": [
    "# extract all the words and count them\n",
    "vocab = Counter([word for sentence in _train_set_['text'].values.tolist() for word in sentence])\n",
    "\n",
    "print('Number of words in the training set : ' + str(sum(vocab.values())))\n",
    "print('Number of unique words in the training set : ' + str(len(list(vocab))))\n",
    "\n",
    "# Sort the words\n",
    "vocab = vocab.most_common()\n",
    "\n",
    "print('Most frequent words : ' + str(vocab[0:10]))\n",
    "\n",
    "# convert the vocabulary to a Python Dict\n",
    "vocab = dict(vocab)\n",
    "\n",
    "# encode words as integers\n",
    "sparse_vocab = {word:i for i, word in enumerate(vocab, 1)} "
   ]
  },
  {
   "cell_type": "markdown",
   "metadata": {},
   "source": [
    "Encode the text and labels"
   ]
  },
  {
   "cell_type": "code",
   "execution_count": 348,
   "metadata": {},
   "outputs": [],
   "source": [
    "def encode_text(data):\n",
    "    # encode sentences and set -1 if the word is not in the vocabulary\n",
    "    data['text_encoded'] = data['text'].apply(\n",
    "        lambda sentence : [sparse_vocab.get(word, -1) for word in sentence]\n",
    "    )\n",
    "\n",
    "    # drop sentences that are extremely short or long\n",
    "    data['length'] = data['text_encoded'].apply(lambda sentence : len(sentence))\n",
    "    limit_low, limit_high  = data['length'].quantile(q=[0.01, 0.99]).values\n",
    "    data = data[(data['length'] <= limit_high) & (data['length'] >= limit_low)].copy()\n",
    "\n",
    "    # pad sentences so that each vector has the same length\n",
    "    max_len = int(limit_high)\n",
    "    data['text_encoded'] = data.apply(lambda row: row['text_encoded'] + [0] * (max_len - row['length']), axis=1)\n",
    "    data['length'] = data['text_encoded'].apply(lambda sentence : len(sentence))\n",
    "\n",
    "    if sum(data['length'] != max_len):\n",
    "        print('WARNING')\n",
    "\n",
    "    return data\n",
    "\n",
    "train_set_txt = encode_text(_train_set_.copy())\n",
    "test_set_txt = encode_text(_test_set_.copy())\n",
    "\n",
    "# train_set_labels = (\n",
    "#     OneHotEncoder(\n",
    "#         handle_unknown='ignore', \n",
    "#         sparse_output=False\n",
    "#     )\n",
    "#     .fit_transform(\n",
    "#         train_set_txt['sentiment']\n",
    "#         .values\n",
    "#         .reshape(-1, 1)\n",
    "#     )\n",
    "# )\n",
    "\n",
    "# test_set_labels = (\n",
    "#     OneHotEncoder(\n",
    "#         handle_unknown='ignore', \n",
    "#         sparse_output=False\n",
    "#     )\n",
    "#     .fit_transform(\n",
    "#         test_set_txt['sentiment']\n",
    "#         .values\n",
    "#         .reshape(-1, 1)\n",
    "#     )\n",
    "# )\n",
    "\n",
    "train_set_labels = train_set_txt['sentiment'].replace(['positive','neutral','negative'], [0, 1, 2])\n",
    "test_set_labels = test_set_txt['sentiment'].replace(['positive','neutral','negative'], [0, 1, 2])"
   ]
  },
  {
   "cell_type": "markdown",
   "metadata": {},
   "source": [
    "## Supervised learning"
   ]
  },
  {
   "cell_type": "code",
   "execution_count": 349,
   "metadata": {},
   "outputs": [
    {
     "name": "stdout",
     "output_type": "stream",
     "text": [
      "GPU is available\n"
     ]
    }
   ],
   "source": [
    "if torch.cuda.is_available():\n",
    "    device = torch.device(\"cuda\")\n",
    "    print(\"GPU is available\")\n",
    "else:\n",
    "    device = torch.device(\"cpu\")\n",
    "    print(\"GPU not available, CPU used\")"
   ]
  },
  {
   "cell_type": "code",
   "execution_count": 351,
   "metadata": {},
   "outputs": [],
   "source": [
    "class RNN_model(nn.Module):\n",
    "\n",
    "    def __init__(self, vocab_dim, embedding_dim, hidden_dim):\n",
    "        super(RNN_model, self).__init__()\n",
    "\n",
    "        # embedding layer\n",
    "        self.embedding = nn.Embedding(vocab_dim, embedding_dim)\n",
    "        # RNN layer\n",
    "        self.rnn = nn.RNN(embedding_dim, hidden_dim)\n",
    "        # fully connected layer\n",
    "        self.fc = nn.Linear(hidden_dim, 3)\n",
    "        self.softmax = nn.Softmax(dim = 1)\n",
    "\n",
    "    def forward(self, txt):\n",
    "        emb_txt = self.embedding(txt.T)\n",
    "        rnn_out, rnn_hidden = self.rnn(emb_txt)\n",
    "        fc_out = self.fc(rnn_hidden.squeeze(0))\n",
    "        output = self.softmax(fc_out)\n",
    "\n",
    "        return fc_out"
   ]
  },
  {
   "cell_type": "code",
   "execution_count": 390,
   "metadata": {},
   "outputs": [],
   "source": [
    "def train_loop(dataloader, model, optimizer, loss_function, accuracy_function):\n",
    "    \n",
    "    loss_hist = np.array([])\n",
    "    accuracy_hist = np.array([])\n",
    "    \n",
    "    model.train()\n",
    "    \n",
    "    for txt, label in dataloader:\n",
    "\n",
    "        txt, label = txt.to(device), label.to(device)\n",
    "\n",
    "        # forward computation\n",
    "        pred = model(txt)\n",
    "        loss = loss_function(pred, label.squeeze())\n",
    "        accuracy = accuracy_function(pred, label)\n",
    "\n",
    "        # backward computation\n",
    "        optimizer.zero_grad()  \n",
    "        loss.backward()\n",
    "        optimizer.step()\n",
    "\n",
    "        # metrics\n",
    "        loss_hist = np.append(loss_hist, loss.item())\n",
    "        accuracy_hist = np.append(accuracy_hist, accuracy.item())\n",
    "        \n",
    "    return np.mean(loss_hist), np.mean(accuracy_hist)"
   ]
  },
  {
   "cell_type": "code",
   "execution_count": 377,
   "metadata": {},
   "outputs": [],
   "source": [
    "def eval_model(dataloader, model, loss_function, accuracy_function):\n",
    "    \n",
    "    loss_hist = np.array([])\n",
    "    accuracy_hist = np.array([])\n",
    "    model.eval()\n",
    "    \n",
    "    with torch.no_grad():\n",
    "    \n",
    "        for txt, label in dataloader:\n",
    "\n",
    "            txt, label = txt.to(device), label.to(device)\n",
    "\n",
    "            # forward \n",
    "            pred = model(txt)\n",
    "            loss = loss_function(pred, label)\n",
    "            accuracy = accuracy_function(pred, label)\n",
    "\n",
    "            # metrics\n",
    "            loss_hist = np.append(loss_hist, loss.item())\n",
    "            accuracy_hist = np.append(accuracy_hist, accuracy.item())\n",
    "        \n",
    "    return np.mean(loss_hist), np.mean(accuracy_hist)"
   ]
  },
  {
   "cell_type": "code",
   "execution_count": 393,
   "metadata": {},
   "outputs": [],
   "source": [
    "VOCAB_DIM = len(vocab) + 1\n",
    "EMBEDDING_DIM = 100\n",
    "HIDDEN_DIM = 32\n",
    "LEARNING_RATE = 1e-2\n",
    "BATCH_SIZE = 32\n",
    "EPOCHS = 100\n",
    "\n",
    "train_set = TensorDataset(\n",
    "    torch.tensor(np.vstack(train_set_txt['text_encoded'])), \n",
    "    torch.tensor(np.vstack(train_set_labels)).long()\n",
    ")\n",
    "\n",
    "test_set = TensorDataset(\n",
    "    torch.tensor(np.vstack(test_set_txt['text_encoded'])), \n",
    "    torch.tensor(np.vstack(test_set_labels)).long()\n",
    ")\n",
    "\n",
    "train_dataloader = DataLoader(\n",
    "    train_set, \n",
    "    batch_size = BATCH_SIZE,\n",
    "    shuffle = True\n",
    ")\n",
    "\n",
    "test_dataloader = DataLoader(\n",
    "    test_set, \n",
    "    batch_size = BATCH_SIZE,\n",
    "    shuffle = True\n",
    ")\n",
    "\n",
    "model = RNN_model(VOCAB_DIM, EMBEDDING_DIM, HIDDEN_DIM).to(device)\n",
    "optimizer = optim.SGD(model.parameters(), lr=LEARNING_RATE)\n",
    "loss_function = nn.CrossEntropyLoss().to(device)\n",
    "accuracy_function = lambda pred, target : torch.sum((torch.argmax(torch.softmax(pred, dim=1), dim=1) == target.T)) / len(target)\n"
   ]
  },
  {
   "cell_type": "code",
   "execution_count": 394,
   "metadata": {},
   "outputs": [
    {
     "name": "stderr",
     "output_type": "stream",
     "text": [
      "  1%|          | 1/100 [00:00<00:40,  2.42it/s]"
     ]
    },
    {
     "name": "stdout",
     "output_type": "stream",
     "text": [
      "EPOCH : 1\n",
      "Training loss : 0.9323620806137721 | Training accuracy : 0.591493055721124\n"
     ]
    },
    {
     "name": "stderr",
     "output_type": "stream",
     "text": [
      "  2%|▏         | 2/100 [00:00<00:41,  2.35it/s]"
     ]
    },
    {
     "name": "stdout",
     "output_type": "stream",
     "text": [
      "EPOCH : 2\n",
      "Training loss : 0.9315522039930025 | Training accuracy : 0.5900173611938954\n"
     ]
    },
    {
     "name": "stderr",
     "output_type": "stream",
     "text": [
      "  3%|▎         | 3/100 [00:01<00:41,  2.32it/s]"
     ]
    },
    {
     "name": "stdout",
     "output_type": "stream",
     "text": [
      "EPOCH : 3\n",
      "Training loss : 0.9316137120127678 | Training accuracy : 0.59140625\n"
     ]
    },
    {
     "name": "stderr",
     "output_type": "stream",
     "text": [
      "  4%|▍         | 4/100 [00:01<00:41,  2.30it/s]"
     ]
    },
    {
     "name": "stdout",
     "output_type": "stream",
     "text": [
      "EPOCH : 4\n",
      "Training loss : 0.9270770967006683 | Training accuracy : 0.5947916666666667\n"
     ]
    },
    {
     "name": "stderr",
     "output_type": "stream",
     "text": [
      "  5%|▌         | 5/100 [00:02<00:41,  2.30it/s]"
     ]
    },
    {
     "name": "stdout",
     "output_type": "stream",
     "text": [
      "EPOCH : 5\n",
      "Training loss : 0.9312477141618729 | Training accuracy : 0.5905381945272287\n"
     ]
    },
    {
     "name": "stderr",
     "output_type": "stream",
     "text": [
      "  6%|▌         | 6/100 [00:02<00:40,  2.33it/s]"
     ]
    },
    {
     "name": "stdout",
     "output_type": "stream",
     "text": [
      "EPOCH : 6\n",
      "Training loss : 0.9293717811505 | Training accuracy : 0.5927951390544574\n"
     ]
    },
    {
     "name": "stderr",
     "output_type": "stream",
     "text": [
      "  7%|▋         | 7/100 [00:02<00:39,  2.38it/s]"
     ]
    },
    {
     "name": "stdout",
     "output_type": "stream",
     "text": [
      "EPOCH : 7\n",
      "Training loss : 0.9292612507939338 | Training accuracy : 0.5925347223877907\n"
     ]
    },
    {
     "name": "stderr",
     "output_type": "stream",
     "text": [
      "  8%|▊         | 8/100 [00:03<00:38,  2.41it/s]"
     ]
    },
    {
     "name": "stdout",
     "output_type": "stream",
     "text": [
      "EPOCH : 8\n",
      "Training loss : 0.927284654478232 | Training accuracy : 0.5941840281089147\n"
     ]
    },
    {
     "name": "stderr",
     "output_type": "stream",
     "text": [
      "  9%|▉         | 9/100 [00:03<00:37,  2.43it/s]"
     ]
    },
    {
     "name": "stdout",
     "output_type": "stream",
     "text": [
      "EPOCH : 9\n",
      "Training loss : 0.9279280309875806 | Training accuracy : 0.5936631947755814\n"
     ]
    },
    {
     "name": "stderr",
     "output_type": "stream",
     "text": [
      " 10%|█         | 10/100 [00:04<00:37,  2.42it/s]"
     ]
    },
    {
     "name": "stdout",
     "output_type": "stream",
     "text": [
      "EPOCH : 10\n",
      "Training loss : 0.9332025195161502 | Training accuracy : 0.5885416666666666\n"
     ]
    },
    {
     "name": "stderr",
     "output_type": "stream",
     "text": [
      " 11%|█         | 11/100 [00:04<00:38,  2.28it/s]"
     ]
    },
    {
     "name": "stdout",
     "output_type": "stream",
     "text": [
      "EPOCH : 11\n",
      "Training loss : 0.9333515932162603 | Training accuracy : 0.5905381945272287\n"
     ]
    },
    {
     "name": "stderr",
     "output_type": "stream",
     "text": [
      " 12%|█▏        | 12/100 [00:05<00:40,  2.15it/s]"
     ]
    },
    {
     "name": "stdout",
     "output_type": "stream",
     "text": [
      "EPOCH : 12\n",
      "Training loss : 0.9331818257768949 | Training accuracy : 0.5885416666666666\n"
     ]
    },
    {
     "name": "stderr",
     "output_type": "stream",
     "text": [
      " 13%|█▎        | 13/100 [00:05<00:39,  2.22it/s]"
     ]
    },
    {
     "name": "stdout",
     "output_type": "stream",
     "text": [
      "EPOCH : 13\n",
      "Training loss : 0.9270876968900362 | Training accuracy : 0.5941840281089147\n"
     ]
    },
    {
     "name": "stderr",
     "output_type": "stream",
     "text": [
      " 14%|█▍        | 14/100 [00:06<00:38,  2.23it/s]"
     ]
    },
    {
     "name": "stdout",
     "output_type": "stream",
     "text": [
      "EPOCH : 14\n",
      "Training loss : 0.9297820955514908 | Training accuracy : 0.591059027860562\n"
     ]
    },
    {
     "name": "stderr",
     "output_type": "stream",
     "text": [
      " 15%|█▌        | 15/100 [00:06<00:37,  2.25it/s]"
     ]
    },
    {
     "name": "stdout",
     "output_type": "stream",
     "text": [
      "EPOCH : 15\n",
      "Training loss : 0.9288926725586255 | Training accuracy : 0.5944444447755813\n"
     ]
    },
    {
     "name": "stderr",
     "output_type": "stream",
     "text": [
      " 16%|█▌        | 16/100 [00:07<00:38,  2.20it/s]"
     ]
    },
    {
     "name": "stdout",
     "output_type": "stream",
     "text": [
      "EPOCH : 16\n",
      "Training loss : 0.927815034488837 | Training accuracy : 0.5941840281089147\n"
     ]
    },
    {
     "name": "stderr",
     "output_type": "stream",
     "text": [
      " 17%|█▋        | 17/100 [00:07<00:38,  2.18it/s]"
     ]
    },
    {
     "name": "stdout",
     "output_type": "stream",
     "text": [
      "EPOCH : 17\n",
      "Training loss : 0.9273967698216439 | Training accuracy : 0.5935763890544573\n"
     ]
    },
    {
     "name": "stderr",
     "output_type": "stream",
     "text": [
      " 18%|█▊        | 18/100 [00:07<00:36,  2.23it/s]"
     ]
    },
    {
     "name": "stdout",
     "output_type": "stream",
     "text": [
      "EPOCH : 18\n",
      "Training loss : 0.9291835864384969 | Training accuracy : 0.5919270833333333\n"
     ]
    },
    {
     "name": "stderr",
     "output_type": "stream",
     "text": [
      " 19%|█▉        | 19/100 [00:08<00:35,  2.31it/s]"
     ]
    },
    {
     "name": "stdout",
     "output_type": "stream",
     "text": [
      "EPOCH : 19\n",
      "Training loss : 0.9305039991935095 | Training accuracy : 0.5913194445272286\n"
     ]
    },
    {
     "name": "stderr",
     "output_type": "stream",
     "text": [
      " 20%|██        | 20/100 [00:08<00:34,  2.35it/s]"
     ]
    },
    {
     "name": "stdout",
     "output_type": "stream",
     "text": [
      "EPOCH : 20\n",
      "Training loss : 0.9278137370944023 | Training accuracy : 0.5944444447755813\n"
     ]
    },
    {
     "name": "stderr",
     "output_type": "stream",
     "text": [
      " 21%|██        | 21/100 [00:09<00:32,  2.39it/s]"
     ]
    },
    {
     "name": "stdout",
     "output_type": "stream",
     "text": [
      "EPOCH : 21\n",
      "Training loss : 0.9283255974451701 | Training accuracy : 0.5924479166666666\n"
     ]
    },
    {
     "name": "stderr",
     "output_type": "stream",
     "text": [
      " 22%|██▏       | 22/100 [00:09<00:32,  2.38it/s]"
     ]
    },
    {
     "name": "stdout",
     "output_type": "stream",
     "text": [
      "EPOCH : 22\n",
      "Training loss : 0.9298588668306669 | Training accuracy : 0.5913194445272286\n"
     ]
    },
    {
     "name": "stderr",
     "output_type": "stream",
     "text": [
      " 23%|██▎       | 23/100 [00:09<00:32,  2.38it/s]"
     ]
    },
    {
     "name": "stdout",
     "output_type": "stream",
     "text": [
      "EPOCH : 23\n",
      "Training loss : 0.9284456436832745 | Training accuracy : 0.5933159723877907\n"
     ]
    },
    {
     "name": "stderr",
     "output_type": "stream",
     "text": [
      " 24%|██▍       | 24/100 [00:10<00:31,  2.44it/s]"
     ]
    },
    {
     "name": "stdout",
     "output_type": "stream",
     "text": [
      "EPOCH : 24\n",
      "Training loss : 0.9312847763299942 | Training accuracy : 0.5924479166666666\n"
     ]
    },
    {
     "name": "stderr",
     "output_type": "stream",
     "text": [
      " 25%|██▌       | 25/100 [00:10<00:30,  2.45it/s]"
     ]
    },
    {
     "name": "stdout",
     "output_type": "stream",
     "text": [
      "EPOCH : 25\n",
      "Training loss : 0.9308076808849971 | Training accuracy : 0.5907118055969477\n"
     ]
    },
    {
     "name": "stderr",
     "output_type": "stream",
     "text": [
      " 26%|██▌       | 26/100 [00:11<00:32,  2.31it/s]"
     ]
    },
    {
     "name": "stdout",
     "output_type": "stream",
     "text": [
      "EPOCH : 26\n",
      "Training loss : 0.9281807323296865 | Training accuracy : 0.594704861442248\n"
     ]
    },
    {
     "name": "stderr",
     "output_type": "stream",
     "text": [
      " 27%|██▋       | 27/100 [00:11<00:32,  2.23it/s]"
     ]
    },
    {
     "name": "stdout",
     "output_type": "stream",
     "text": [
      "EPOCH : 27\n",
      "Training loss : 0.9282324587305387 | Training accuracy : 0.593836805721124\n"
     ]
    },
    {
     "name": "stderr",
     "output_type": "stream",
     "text": [
      " 28%|██▊       | 28/100 [00:12<00:32,  2.25it/s]"
     ]
    },
    {
     "name": "stdout",
     "output_type": "stream",
     "text": [
      "EPOCH : 28\n",
      "Training loss : 0.9282797267039616 | Training accuracy : 0.593836805721124\n"
     ]
    },
    {
     "name": "stderr",
     "output_type": "stream",
     "text": [
      " 29%|██▉       | 29/100 [00:12<00:30,  2.30it/s]"
     ]
    },
    {
     "name": "stdout",
     "output_type": "stream",
     "text": [
      "EPOCH : 29\n",
      "Training loss : 0.9292105520764987 | Training accuracy : 0.59296875\n"
     ]
    },
    {
     "name": "stderr",
     "output_type": "stream",
     "text": [
      " 30%|███       | 30/100 [00:12<00:29,  2.36it/s]"
     ]
    },
    {
     "name": "stdout",
     "output_type": "stream",
     "text": [
      "EPOCH : 30\n",
      "Training loss : 0.9270286267002423 | Training accuracy : 0.594704861442248\n"
     ]
    },
    {
     "name": "stderr",
     "output_type": "stream",
     "text": [
      " 31%|███       | 31/100 [00:13<00:28,  2.40it/s]"
     ]
    },
    {
     "name": "stdout",
     "output_type": "stream",
     "text": [
      "EPOCH : 31\n",
      "Training loss : 0.9286805048584938 | Training accuracy : 0.5935763890544573\n"
     ]
    },
    {
     "name": "stderr",
     "output_type": "stream",
     "text": [
      " 32%|███▏      | 32/100 [00:13<00:28,  2.43it/s]"
     ]
    },
    {
     "name": "stdout",
     "output_type": "stream",
     "text": [
      "EPOCH : 32\n",
      "Training loss : 0.9309826532999674 | Training accuracy : 0.591840277860562\n"
     ]
    },
    {
     "name": "stderr",
     "output_type": "stream",
     "text": [
      " 33%|███▎      | 33/100 [00:14<00:27,  2.45it/s]"
     ]
    },
    {
     "name": "stdout",
     "output_type": "stream",
     "text": [
      "EPOCH : 33\n",
      "Training loss : 0.9290532092253367 | Training accuracy : 0.59296875\n"
     ]
    },
    {
     "name": "stderr",
     "output_type": "stream",
     "text": [
      " 34%|███▍      | 34/100 [00:14<00:27,  2.36it/s]"
     ]
    },
    {
     "name": "stdout",
     "output_type": "stream",
     "text": [
      "EPOCH : 34\n",
      "Training loss : 0.9280674700935682 | Training accuracy : 0.5932291666666667\n"
     ]
    },
    {
     "name": "stderr",
     "output_type": "stream",
     "text": [
      " 35%|███▌      | 35/100 [00:15<00:27,  2.37it/s]"
     ]
    },
    {
     "name": "stdout",
     "output_type": "stream",
     "text": [
      "EPOCH : 35\n",
      "Training loss : 0.9265124986569087 | Training accuracy : 0.5952256947755814\n"
     ]
    },
    {
     "name": "stderr",
     "output_type": "stream",
     "text": [
      " 36%|███▌      | 36/100 [00:15<00:26,  2.39it/s]"
     ]
    },
    {
     "name": "stdout",
     "output_type": "stream",
     "text": [
      "EPOCH : 36\n",
      "Training loss : 0.9273694251974424 | Training accuracy : 0.5943576390544574\n"
     ]
    },
    {
     "name": "stderr",
     "output_type": "stream",
     "text": [
      " 37%|███▋      | 37/100 [00:15<00:26,  2.40it/s]"
     ]
    },
    {
     "name": "stdout",
     "output_type": "stream",
     "text": [
      "EPOCH : 37\n",
      "Training loss : 0.9266183346509933 | Training accuracy : 0.5952256947755814\n"
     ]
    },
    {
     "name": "stderr",
     "output_type": "stream",
     "text": [
      " 38%|███▊      | 38/100 [00:16<00:25,  2.42it/s]"
     ]
    },
    {
     "name": "stdout",
     "output_type": "stream",
     "text": [
      "EPOCH : 38\n",
      "Training loss : 0.9253151911000411 | Training accuracy : 0.596875\n"
     ]
    },
    {
     "name": "stderr",
     "output_type": "stream",
     "text": [
      " 39%|███▉      | 39/100 [00:16<00:24,  2.44it/s]"
     ]
    },
    {
     "name": "stdout",
     "output_type": "stream",
     "text": [
      "EPOCH : 39\n",
      "Training loss : 0.9275389110048612 | Training accuracy : 0.5940972223877907\n"
     ]
    },
    {
     "name": "stderr",
     "output_type": "stream",
     "text": [
      " 40%|████      | 40/100 [00:17<00:24,  2.42it/s]"
     ]
    },
    {
     "name": "stdout",
     "output_type": "stream",
     "text": [
      "EPOCH : 40\n",
      "Training loss : 0.9260785763462385 | Training accuracy : 0.5954861114422481\n"
     ]
    },
    {
     "name": "stderr",
     "output_type": "stream",
     "text": [
      " 41%|████      | 41/100 [00:17<00:26,  2.24it/s]"
     ]
    },
    {
     "name": "stdout",
     "output_type": "stream",
     "text": [
      "EPOCH : 41\n",
      "Training loss : 0.9273393874367079 | Training accuracy : 0.5954861114422481\n"
     ]
    },
    {
     "name": "stderr",
     "output_type": "stream",
     "text": [
      " 42%|████▏     | 42/100 [00:18<00:26,  2.21it/s]"
     ]
    },
    {
     "name": "stdout",
     "output_type": "stream",
     "text": [
      "EPOCH : 42\n",
      "Training loss : 0.9264732037981351 | Training accuracy : 0.5957465281089147\n"
     ]
    },
    {
     "name": "stderr",
     "output_type": "stream",
     "text": [
      " 43%|████▎     | 43/100 [00:18<00:25,  2.27it/s]"
     ]
    },
    {
     "name": "stdout",
     "output_type": "stream",
     "text": [
      "EPOCH : 43\n",
      "Training loss : 0.9258259867628416 | Training accuracy : 0.5954861114422481\n"
     ]
    },
    {
     "name": "stderr",
     "output_type": "stream",
     "text": [
      " 44%|████▍     | 44/100 [00:18<00:24,  2.31it/s]"
     ]
    },
    {
     "name": "stdout",
     "output_type": "stream",
     "text": [
      "EPOCH : 44\n",
      "Training loss : 0.9298346271117528 | Training accuracy : 0.591840277860562\n"
     ]
    },
    {
     "name": "stderr",
     "output_type": "stream",
     "text": [
      " 45%|████▌     | 45/100 [00:19<00:23,  2.36it/s]"
     ]
    },
    {
     "name": "stdout",
     "output_type": "stream",
     "text": [
      "EPOCH : 45\n",
      "Training loss : 0.9281956821680069 | Training accuracy : 0.5940972223877907\n"
     ]
    },
    {
     "name": "stderr",
     "output_type": "stream",
     "text": [
      " 46%|████▌     | 46/100 [00:19<00:23,  2.29it/s]"
     ]
    },
    {
     "name": "stdout",
     "output_type": "stream",
     "text": [
      "EPOCH : 46\n",
      "Training loss : 0.9256690358122189 | Training accuracy : 0.5957465281089147\n"
     ]
    },
    {
     "name": "stderr",
     "output_type": "stream",
     "text": [
      " 47%|████▋     | 47/100 [00:20<00:22,  2.32it/s]"
     ]
    },
    {
     "name": "stdout",
     "output_type": "stream",
     "text": [
      "EPOCH : 47\n",
      "Training loss : 0.9298786466320356 | Training accuracy : 0.5932291666666667\n"
     ]
    },
    {
     "name": "stderr",
     "output_type": "stream",
     "text": [
      " 48%|████▊     | 48/100 [00:20<00:22,  2.36it/s]"
     ]
    },
    {
     "name": "stdout",
     "output_type": "stream",
     "text": [
      "EPOCH : 48\n",
      "Training loss : 0.9296228980024656 | Training accuracy : 0.5932291666666667\n"
     ]
    },
    {
     "name": "stderr",
     "output_type": "stream",
     "text": [
      " 49%|████▉     | 49/100 [00:20<00:21,  2.41it/s]"
     ]
    },
    {
     "name": "stdout",
     "output_type": "stream",
     "text": [
      "EPOCH : 49\n",
      "Training loss : 0.9275403643647829 | Training accuracy : 0.59375\n"
     ]
    },
    {
     "name": "stderr",
     "output_type": "stream",
     "text": [
      " 50%|█████     | 50/100 [00:21<00:20,  2.43it/s]"
     ]
    },
    {
     "name": "stdout",
     "output_type": "stream",
     "text": [
      "EPOCH : 50\n",
      "Training loss : 0.9259065409501394 | Training accuracy : 0.5960069447755814\n"
     ]
    },
    {
     "name": "stderr",
     "output_type": "stream",
     "text": [
      " 51%|█████     | 51/100 [00:21<00:20,  2.45it/s]"
     ]
    },
    {
     "name": "stdout",
     "output_type": "stream",
     "text": [
      "EPOCH : 51\n",
      "Training loss : 0.9272606606284778 | Training accuracy : 0.594618055721124\n"
     ]
    },
    {
     "name": "stderr",
     "output_type": "stream",
     "text": [
      " 52%|█████▏    | 52/100 [00:22<00:20,  2.37it/s]"
     ]
    },
    {
     "name": "stdout",
     "output_type": "stream",
     "text": [
      "EPOCH : 52\n",
      "Training loss : 0.9285694286227226 | Training accuracy : 0.5928819445272286\n"
     ]
    },
    {
     "name": "stderr",
     "output_type": "stream",
     "text": [
      " 53%|█████▎    | 53/100 [00:22<00:20,  2.32it/s]"
     ]
    },
    {
     "name": "stdout",
     "output_type": "stream",
     "text": [
      "EPOCH : 53\n",
      "Training loss : 0.9276691565910975 | Training accuracy : 0.5948784723877907\n"
     ]
    },
    {
     "name": "stderr",
     "output_type": "stream",
     "text": [
      " 54%|█████▍    | 54/100 [00:23<00:20,  2.27it/s]"
     ]
    },
    {
     "name": "stdout",
     "output_type": "stream",
     "text": [
      "EPOCH : 54\n",
      "Training loss : 0.928213861087958 | Training accuracy : 0.5923611111938953\n"
     ]
    },
    {
     "name": "stderr",
     "output_type": "stream",
     "text": [
      " 55%|█████▌    | 55/100 [00:23<00:19,  2.26it/s]"
     ]
    },
    {
     "name": "stdout",
     "output_type": "stream",
     "text": [
      "EPOCH : 55\n",
      "Training loss : 0.9298892502983411 | Training accuracy : 0.592621527860562\n"
     ]
    },
    {
     "name": "stderr",
     "output_type": "stream",
     "text": [
      " 56%|█████▌    | 56/100 [00:24<00:20,  2.18it/s]"
     ]
    },
    {
     "name": "stdout",
     "output_type": "stream",
     "text": [
      "EPOCH : 56\n",
      "Training loss : 0.9266457885503769 | Training accuracy : 0.596267361442248\n"
     ]
    },
    {
     "name": "stderr",
     "output_type": "stream",
     "text": [
      " 57%|█████▋    | 57/100 [00:24<00:19,  2.16it/s]"
     ]
    },
    {
     "name": "stdout",
     "output_type": "stream",
     "text": [
      "EPOCH : 57\n",
      "Training loss : 0.9274485692381859 | Training accuracy : 0.59375\n"
     ]
    },
    {
     "name": "stderr",
     "output_type": "stream",
     "text": [
      " 58%|█████▊    | 58/100 [00:25<00:19,  2.19it/s]"
     ]
    },
    {
     "name": "stdout",
     "output_type": "stream",
     "text": [
      "EPOCH : 58\n",
      "Training loss : 0.9284971579909325 | Training accuracy : 0.59375\n"
     ]
    },
    {
     "name": "stderr",
     "output_type": "stream",
     "text": [
      " 59%|█████▉    | 59/100 [00:25<00:18,  2.27it/s]"
     ]
    },
    {
     "name": "stdout",
     "output_type": "stream",
     "text": [
      "EPOCH : 59\n",
      "Training loss : 0.9293578321735064 | Training accuracy : 0.5934895833333333\n"
     ]
    },
    {
     "name": "stderr",
     "output_type": "stream",
     "text": [
      " 60%|██████    | 60/100 [00:25<00:17,  2.30it/s]"
     ]
    },
    {
     "name": "stdout",
     "output_type": "stream",
     "text": [
      "EPOCH : 60\n",
      "Training loss : 0.9301311805844307 | Training accuracy : 0.59375\n"
     ]
    },
    {
     "name": "stderr",
     "output_type": "stream",
     "text": [
      " 61%|██████    | 61/100 [00:26<00:16,  2.36it/s]"
     ]
    },
    {
     "name": "stdout",
     "output_type": "stream",
     "text": [
      "EPOCH : 61\n",
      "Training loss : 0.928016863266627 | Training accuracy : 0.5948784723877907\n"
     ]
    },
    {
     "name": "stderr",
     "output_type": "stream",
     "text": [
      " 62%|██████▏   | 62/100 [00:26<00:15,  2.38it/s]"
     ]
    },
    {
     "name": "stdout",
     "output_type": "stream",
     "text": [
      "EPOCH : 62\n",
      "Training loss : 0.9267210111021995 | Training accuracy : 0.5948784723877907\n"
     ]
    },
    {
     "name": "stderr",
     "output_type": "stream",
     "text": [
      " 63%|██████▎   | 63/100 [00:27<00:15,  2.42it/s]"
     ]
    },
    {
     "name": "stdout",
     "output_type": "stream",
     "text": [
      "EPOCH : 63\n",
      "Training loss : 0.9286767462889354 | Training accuracy : 0.59375\n"
     ]
    },
    {
     "name": "stderr",
     "output_type": "stream",
     "text": [
      " 64%|██████▍   | 64/100 [00:27<00:15,  2.40it/s]"
     ]
    },
    {
     "name": "stdout",
     "output_type": "stream",
     "text": [
      "EPOCH : 64\n",
      "Training loss : 0.92808368653059 | Training accuracy : 0.595399305721124\n"
     ]
    },
    {
     "name": "stderr",
     "output_type": "stream",
     "text": [
      " 65%|██████▌   | 65/100 [00:27<00:14,  2.40it/s]"
     ]
    },
    {
     "name": "stdout",
     "output_type": "stream",
     "text": [
      "EPOCH : 65\n",
      "Training loss : 0.9286345541477203 | Training accuracy : 0.5942708333333333\n"
     ]
    },
    {
     "name": "stderr",
     "output_type": "stream",
     "text": [
      " 66%|██████▌   | 66/100 [00:28<00:13,  2.43it/s]"
     ]
    },
    {
     "name": "stdout",
     "output_type": "stream",
     "text": [
      "EPOCH : 66\n",
      "Training loss : 0.9257284104824066 | Training accuracy : 0.5951388890544573\n"
     ]
    },
    {
     "name": "stderr",
     "output_type": "stream",
     "text": [
      " 67%|██████▋   | 67/100 [00:28<00:13,  2.46it/s]"
     ]
    },
    {
     "name": "stdout",
     "output_type": "stream",
     "text": [
      "EPOCH : 67\n",
      "Training loss : 0.929200817644596 | Training accuracy : 0.5931423611938953\n"
     ]
    },
    {
     "name": "stderr",
     "output_type": "stream",
     "text": [
      " 68%|██████▊   | 68/100 [00:29<00:13,  2.45it/s]"
     ]
    },
    {
     "name": "stdout",
     "output_type": "stream",
     "text": [
      "EPOCH : 68\n",
      "Training loss : 0.9272437835733096 | Training accuracy : 0.5951388890544573\n"
     ]
    },
    {
     "name": "stderr",
     "output_type": "stream",
     "text": [
      " 69%|██████▉   | 69/100 [00:29<00:12,  2.49it/s]"
     ]
    },
    {
     "name": "stdout",
     "output_type": "stream",
     "text": [
      "EPOCH : 69\n",
      "Training loss : 0.9273609707752863 | Training accuracy : 0.5940104166666667\n"
     ]
    },
    {
     "name": "stderr",
     "output_type": "stream",
     "text": [
      " 70%|███████   | 70/100 [00:29<00:12,  2.45it/s]"
     ]
    },
    {
     "name": "stdout",
     "output_type": "stream",
     "text": [
      "EPOCH : 70\n",
      "Training loss : 0.9280003120501836 | Training accuracy : 0.5940104166666667\n"
     ]
    },
    {
     "name": "stderr",
     "output_type": "stream",
     "text": [
      " 71%|███████   | 71/100 [00:30<00:12,  2.26it/s]"
     ]
    },
    {
     "name": "stdout",
     "output_type": "stream",
     "text": [
      "EPOCH : 71\n",
      "Training loss : 0.9279727712273598 | Training accuracy : 0.5931423611938953\n"
     ]
    },
    {
     "name": "stderr",
     "output_type": "stream",
     "text": [
      " 72%|███████▏  | 72/100 [00:30<00:13,  2.09it/s]"
     ]
    },
    {
     "name": "stdout",
     "output_type": "stream",
     "text": [
      "EPOCH : 72\n",
      "Training loss : 0.9272622669736544 | Training accuracy : 0.595399305721124\n"
     ]
    },
    {
     "name": "stderr",
     "output_type": "stream",
     "text": [
      " 73%|███████▎  | 73/100 [00:31<00:12,  2.20it/s]"
     ]
    },
    {
     "name": "stdout",
     "output_type": "stream",
     "text": [
      "EPOCH : 73\n",
      "Training loss : 0.9324705228209496 | Training accuracy : 0.5917534722636143\n"
     ]
    },
    {
     "name": "stderr",
     "output_type": "stream",
     "text": [
      " 74%|███████▍  | 74/100 [00:31<00:12,  2.10it/s]"
     ]
    },
    {
     "name": "stdout",
     "output_type": "stream",
     "text": [
      "EPOCH : 74\n",
      "Training loss : 0.9244366730252902 | Training accuracy : 0.59765625\n"
     ]
    },
    {
     "name": "stderr",
     "output_type": "stream",
     "text": [
      " 75%|███████▌  | 75/100 [00:32<00:11,  2.13it/s]"
     ]
    },
    {
     "name": "stdout",
     "output_type": "stream",
     "text": [
      "EPOCH : 75\n",
      "Training loss : 0.9278845096627871 | Training accuracy : 0.5940104166666667\n"
     ]
    },
    {
     "name": "stderr",
     "output_type": "stream",
     "text": [
      " 76%|███████▌  | 76/100 [00:32<00:11,  2.16it/s]"
     ]
    },
    {
     "name": "stdout",
     "output_type": "stream",
     "text": [
      "EPOCH : 76\n",
      "Training loss : 0.9281592264771461 | Training accuracy : 0.59453125\n"
     ]
    },
    {
     "name": "stderr",
     "output_type": "stream",
     "text": [
      " 77%|███████▋  | 77/100 [00:33<00:10,  2.22it/s]"
     ]
    },
    {
     "name": "stdout",
     "output_type": "stream",
     "text": [
      "EPOCH : 77\n",
      "Training loss : 0.9271802723407745 | Training accuracy : 0.5942708333333333\n"
     ]
    },
    {
     "name": "stderr",
     "output_type": "stream",
     "text": [
      " 78%|███████▊  | 78/100 [00:33<00:09,  2.28it/s]"
     ]
    },
    {
     "name": "stdout",
     "output_type": "stream",
     "text": [
      "EPOCH : 78\n",
      "Training loss : 0.9256080587704977 | Training accuracy : 0.5967881947755813\n"
     ]
    },
    {
     "name": "stderr",
     "output_type": "stream",
     "text": [
      " 79%|███████▉  | 79/100 [00:34<00:08,  2.33it/s]"
     ]
    },
    {
     "name": "stdout",
     "output_type": "stream",
     "text": [
      "EPOCH : 79\n",
      "Training loss : 0.9261115292708079 | Training accuracy : 0.595399305721124\n"
     ]
    },
    {
     "name": "stderr",
     "output_type": "stream",
     "text": [
      " 80%|████████  | 80/100 [00:34<00:08,  2.38it/s]"
     ]
    },
    {
     "name": "stdout",
     "output_type": "stream",
     "text": [
      "EPOCH : 80\n",
      "Training loss : 0.9243632088104884 | Training accuracy : 0.5965277781089147\n"
     ]
    },
    {
     "name": "stderr",
     "output_type": "stream",
     "text": [
      " 81%|████████  | 81/100 [00:34<00:07,  2.38it/s]"
     ]
    },
    {
     "name": "stdout",
     "output_type": "stream",
     "text": [
      "EPOCH : 81\n",
      "Training loss : 0.9275853032867114 | Training accuracy : 0.5942708333333333\n"
     ]
    },
    {
     "name": "stderr",
     "output_type": "stream",
     "text": [
      " 82%|████████▏ | 82/100 [00:35<00:07,  2.34it/s]"
     ]
    },
    {
     "name": "stdout",
     "output_type": "stream",
     "text": [
      "EPOCH : 82\n",
      "Training loss : 0.9279781793554623 | Training accuracy : 0.5956597223877906\n"
     ]
    },
    {
     "name": "stderr",
     "output_type": "stream",
     "text": [
      " 83%|████████▎ | 83/100 [00:35<00:07,  2.32it/s]"
     ]
    },
    {
     "name": "stdout",
     "output_type": "stream",
     "text": [
      "EPOCH : 83\n",
      "Training loss : 0.9295964355270068 | Training accuracy : 0.5936631945272287\n"
     ]
    },
    {
     "name": "stderr",
     "output_type": "stream",
     "text": [
      " 84%|████████▍ | 84/100 [00:36<00:06,  2.31it/s]"
     ]
    },
    {
     "name": "stdout",
     "output_type": "stream",
     "text": [
      "EPOCH : 84\n",
      "Training loss : 0.9259763906399409 | Training accuracy : 0.5959201390544574\n"
     ]
    },
    {
     "name": "stderr",
     "output_type": "stream",
     "text": [
      " 85%|████████▌ | 85/100 [00:36<00:06,  2.35it/s]"
     ]
    },
    {
     "name": "stdout",
     "output_type": "stream",
     "text": [
      "EPOCH : 85\n",
      "Training loss : 0.9279785538713138 | Training accuracy : 0.5947916666666667\n"
     ]
    },
    {
     "name": "stderr",
     "output_type": "stream",
     "text": [
      " 86%|████████▌ | 86/100 [00:37<00:06,  2.23it/s]"
     ]
    },
    {
     "name": "stdout",
     "output_type": "stream",
     "text": [
      "EPOCH : 86\n",
      "Training loss : 0.9282385046283405 | Training accuracy : 0.5936631945272287\n"
     ]
    },
    {
     "name": "stderr",
     "output_type": "stream",
     "text": [
      " 87%|████████▋ | 87/100 [00:37<00:06,  2.14it/s]"
     ]
    },
    {
     "name": "stdout",
     "output_type": "stream",
     "text": [
      "EPOCH : 87\n",
      "Training loss : 0.924723599354426 | Training accuracy : 0.5970486114422481\n"
     ]
    },
    {
     "name": "stderr",
     "output_type": "stream",
     "text": [
      " 88%|████████▊ | 88/100 [00:38<00:05,  2.11it/s]"
     ]
    },
    {
     "name": "stdout",
     "output_type": "stream",
     "text": [
      "EPOCH : 88\n",
      "Training loss : 0.9287929778297742 | Training accuracy : 0.5936631945272287\n"
     ]
    },
    {
     "name": "stderr",
     "output_type": "stream",
     "text": [
      " 89%|████████▉ | 89/100 [00:38<00:05,  2.18it/s]"
     ]
    },
    {
     "name": "stdout",
     "output_type": "stream",
     "text": [
      "EPOCH : 89\n",
      "Training loss : 0.924892108142376 | Training accuracy : 0.5973090281089147\n"
     ]
    },
    {
     "name": "stderr",
     "output_type": "stream",
     "text": [
      " 90%|█████████ | 90/100 [00:39<00:04,  2.17it/s]"
     ]
    },
    {
     "name": "stdout",
     "output_type": "stream",
     "text": [
      "EPOCH : 90\n",
      "Training loss : 0.9258807281653086 | Training accuracy : 0.5973090281089147\n"
     ]
    },
    {
     "name": "stderr",
     "output_type": "stream",
     "text": [
      " 91%|█████████ | 91/100 [00:39<00:04,  2.15it/s]"
     ]
    },
    {
     "name": "stdout",
     "output_type": "stream",
     "text": [
      "EPOCH : 91\n",
      "Training loss : 0.9272266507148743 | Training accuracy : 0.596180555721124\n"
     ]
    },
    {
     "name": "stderr",
     "output_type": "stream",
     "text": [
      " 92%|█████████▏| 92/100 [00:39<00:03,  2.24it/s]"
     ]
    },
    {
     "name": "stdout",
     "output_type": "stream",
     "text": [
      "EPOCH : 92\n",
      "Training loss : 0.9277058695753415 | Training accuracy : 0.5934027778605621\n"
     ]
    },
    {
     "name": "stderr",
     "output_type": "stream",
     "text": [
      " 93%|█████████▎| 93/100 [00:40<00:03,  2.29it/s]"
     ]
    },
    {
     "name": "stdout",
     "output_type": "stream",
     "text": [
      "EPOCH : 93\n",
      "Training loss : 0.9261885205904643 | Training accuracy : 0.596180555721124\n"
     ]
    },
    {
     "name": "stderr",
     "output_type": "stream",
     "text": [
      " 94%|█████████▍| 94/100 [00:40<00:02,  2.30it/s]"
     ]
    },
    {
     "name": "stdout",
     "output_type": "stream",
     "text": [
      "EPOCH : 94\n",
      "Training loss : 0.9248895014325778 | Training accuracy : 0.5964409723877907\n"
     ]
    },
    {
     "name": "stderr",
     "output_type": "stream",
     "text": [
      " 95%|█████████▌| 95/100 [00:41<00:02,  2.33it/s]"
     ]
    },
    {
     "name": "stdout",
     "output_type": "stream",
     "text": [
      "EPOCH : 95\n",
      "Training loss : 0.9254070247213045 | Training accuracy : 0.5973090281089147\n"
     ]
    },
    {
     "name": "stderr",
     "output_type": "stream",
     "text": [
      " 96%|█████████▌| 96/100 [00:41<00:01,  2.38it/s]"
     ]
    },
    {
     "name": "stdout",
     "output_type": "stream",
     "text": [
      "EPOCH : 96\n",
      "Training loss : 0.9252766832709313 | Training accuracy : 0.596180555721124\n"
     ]
    },
    {
     "name": "stderr",
     "output_type": "stream",
     "text": [
      " 97%|█████████▋| 97/100 [00:41<00:01,  2.41it/s]"
     ]
    },
    {
     "name": "stdout",
     "output_type": "stream",
     "text": [
      "EPOCH : 97\n",
      "Training loss : 0.9267289256056149 | Training accuracy : 0.5967013890544574\n"
     ]
    },
    {
     "name": "stderr",
     "output_type": "stream",
     "text": [
      " 98%|█████████▊| 98/100 [00:42<00:00,  2.44it/s]"
     ]
    },
    {
     "name": "stdout",
     "output_type": "stream",
     "text": [
      "EPOCH : 98\n",
      "Training loss : 0.9245314598083496 | Training accuracy : 0.5980902781089147\n"
     ]
    },
    {
     "name": "stderr",
     "output_type": "stream",
     "text": [
      " 99%|█████████▉| 99/100 [00:42<00:00,  2.39it/s]"
     ]
    },
    {
     "name": "stdout",
     "output_type": "stream",
     "text": [
      "EPOCH : 99\n",
      "Training loss : 0.9269091968735059 | Training accuracy : 0.5955729166666667\n"
     ]
    },
    {
     "name": "stderr",
     "output_type": "stream",
     "text": [
      "100%|██████████| 100/100 [00:43<00:00,  2.31it/s]"
     ]
    },
    {
     "name": "stdout",
     "output_type": "stream",
     "text": [
      "EPOCH : 100\n",
      "Training loss : 0.9242279320955277 | Training accuracy : 0.5989583333333334\n"
     ]
    },
    {
     "name": "stderr",
     "output_type": "stream",
     "text": [
      "\n"
     ]
    }
   ],
   "source": [
    "for epoch in tqdm(range(EPOCHS)):\n",
    "    train_loss, train_accuracy = train_loop(train_dataloader, model, optimizer, loss_function, accuracy_function)\n",
    "    # test_loss, test_accuracy = eval_model(test_dataloader, model, loss_function, accuracy_function)\n",
    "    print('EPOCH : ' + str(epoch + 1))\n",
    "    print('Training loss : ' + str(train_loss) + ' | Training accuracy : ' + str(train_accuracy))\n",
    "    # print('Testing loss : ' + str(test_loss) + ' | Testing accuracy : ' + str(test_accuracy))"
   ]
  }
 ],
 "metadata": {
  "kernelspec": {
   "display_name": "Python 3.9.16 ('finance')",
   "language": "python",
   "name": "python3"
  },
  "language_info": {
   "codemirror_mode": {
    "name": "ipython",
    "version": 3
   },
   "file_extension": ".py",
   "mimetype": "text/x-python",
   "name": "python",
   "nbconvert_exporter": "python",
   "pygments_lexer": "ipython3",
   "version": "3.9.16"
  },
  "orig_nbformat": 4,
  "vscode": {
   "interpreter": {
    "hash": "87b7d1b632ea9fc659b38cb235882dc6d49eb3c3a9bfcc80fa5458e44c02fe83"
   }
  }
 },
 "nbformat": 4,
 "nbformat_minor": 2
}
